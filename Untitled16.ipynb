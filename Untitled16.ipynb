{
 "cells": [
  {
   "cell_type": "code",
   "execution_count": 1,
   "metadata": {},
   "outputs": [
    {
     "name": "stdout",
     "output_type": "stream",
     "text": [
      "Libraries imported.\n"
     ]
    }
   ],
   "source": [
    "from bs4 import BeautifulSoup\n",
    "import requests\n",
    "import lxml.html as lh\n",
    "\n",
    "import numpy as np # library to handle data in a vectorized manner\n",
    "\n",
    "import pandas as pd # library for data analsysis\n",
    "pd.set_option('display.max_columns', None)\n",
    "pd.set_option('display.max_rows', None)\n",
    "\n",
    "import json # library to handle JSON files\n",
    "\n",
    "#!conda install -c conda-forge geopy --yes # uncomment this line if you haven't completed the Foursquare API lab\n",
    "from geopy.geocoders import Nominatim # convert an address into latitude and longitude values\n",
    "\n",
    "import requests # library to handle requests\n",
    "from pandas.io.json import json_normalize # tranform JSON file into a pandas dataframe\n",
    "\n",
    "# Matplotlib and associated plotting modules\n",
    "import matplotlib.cm as cm\n",
    "import matplotlib.colors as colors\n",
    "\n",
    "# import k-means from clustering stage\n",
    "from sklearn.cluster import KMeans\n",
    "\n",
    "#!conda install -c conda-forge folium=0.5.0 --yes # uncomment this line if you haven't completed the Foursquare API lab\n",
    "import folium # map rendering library\n",
    "\n",
    "print('Libraries imported.')"
   ]
  },
  {
   "cell_type": "code",
   "execution_count": 2,
   "metadata": {},
   "outputs": [],
   "source": [
    "website_url='https://en.wikipedia.org/wiki/List_of_postal_codes_of_Canada:_M'\n",
    "#Create a handle, page, to handle the contents of the website\n",
    "page = requests.get(website_url)\n",
    "#Store the contents of the website under doc\n",
    "doc = lh.fromstring(page.content)\n",
    "#Parse data that are stored between <tr>..</tr> of HTML\n",
    "tr_elements = doc.xpath('//tr')"
   ]
  },
  {
   "cell_type": "code",
   "execution_count": 3,
   "metadata": {},
   "outputs": [
    {
     "data": {
      "text/plain": [
       "[3, 3, 3, 3, 3, 3, 3, 3, 3, 3, 3, 3]"
      ]
     },
     "execution_count": 3,
     "metadata": {},
     "output_type": "execute_result"
    }
   ],
   "source": [
    "[len(T) for T in tr_elements[:12]]"
   ]
  },
  {
   "cell_type": "code",
   "execution_count": 4,
   "metadata": {},
   "outputs": [],
   "source": [
    "tr_elements = doc.xpath('//tr')\n",
    "#Create empty list\n",
    "col=[]\n",
    "i=0"
   ]
  },
  {
   "cell_type": "code",
   "execution_count": 5,
   "metadata": {},
   "outputs": [
    {
     "name": "stdout",
     "output_type": "stream",
     "text": [
      "1:\"Postcode\"\n",
      "2:\"Borough\"\n",
      "3:\"Neighbourhood\n",
      "\"\n"
     ]
    }
   ],
   "source": [
    "#For each row, store each first element (header) and an empty list\n",
    "for t in tr_elements[0]:\n",
    "    i+=1\n",
    "    name=t.text_content()\n",
    "    print('%d:\"%s\"'%(i,name))\n",
    "    col.append((name,[]))"
   ]
  },
  {
   "cell_type": "code",
   "execution_count": 6,
   "metadata": {},
   "outputs": [],
   "source": [
    "#Since out first row is the header, data is stored on the second row onwards\n",
    "for j in range(1,len(tr_elements)):\n",
    "    #T is our j'th row\n",
    "    T=tr_elements[j]\n",
    "    \n",
    "    #If row is not of size 10, the //tr data is not from our table \n",
    "    if len(T)!=3:\n",
    "        break\n",
    "    \n",
    "    #i is the index of our column\n",
    "    i=0\n",
    "    \n",
    "    #Iterate through each element of the row\n",
    "    for t in T.iterchildren():\n",
    "        data=t.text_content() \n",
    "        #Check if row is empty\n",
    "        if i>0:\n",
    "        #Convert any numerical value to integers\n",
    "            try:\n",
    "                data=int(data)\n",
    "            except:\n",
    "                pass\n",
    "        #Append the data to the empty list of the i'th column\n",
    "        col[i][1].append(data)\n",
    "        #Increment i for the next column\n",
    "        i+=1"
   ]
  },
  {
   "cell_type": "code",
   "execution_count": 7,
   "metadata": {},
   "outputs": [
    {
     "data": {
      "text/plain": [
       "[288, 288, 288]"
      ]
     },
     "execution_count": 7,
     "metadata": {},
     "output_type": "execute_result"
    }
   ],
   "source": [
    "[len(C) for (title,C) in col]"
   ]
  },
  {
   "cell_type": "code",
   "execution_count": 8,
   "metadata": {},
   "outputs": [],
   "source": [
    "Dict={title:column for (title,column) in col}\n",
    "df= pd.DataFrame(Dict)"
   ]
  },
  {
   "cell_type": "code",
   "execution_count": 9,
   "metadata": {},
   "outputs": [
    {
     "data": {
      "text/html": [
       "<div>\n",
       "<style scoped>\n",
       "    .dataframe tbody tr th:only-of-type {\n",
       "        vertical-align: middle;\n",
       "    }\n",
       "\n",
       "    .dataframe tbody tr th {\n",
       "        vertical-align: top;\n",
       "    }\n",
       "\n",
       "    .dataframe thead th {\n",
       "        text-align: right;\n",
       "    }\n",
       "</style>\n",
       "<table border=\"1\" class=\"dataframe\">\n",
       "  <thead>\n",
       "    <tr style=\"text-align: right;\">\n",
       "      <th></th>\n",
       "      <th>Postcode</th>\n",
       "      <th>Borough</th>\n",
       "      <th>Neighbourhood</th>\n",
       "    </tr>\n",
       "  </thead>\n",
       "  <tbody>\n",
       "    <tr>\n",
       "      <th>0</th>\n",
       "      <td>M1A</td>\n",
       "      <td>Not assigned</td>\n",
       "      <td>Not assigned\\n</td>\n",
       "    </tr>\n",
       "    <tr>\n",
       "      <th>1</th>\n",
       "      <td>M2A</td>\n",
       "      <td>Not assigned</td>\n",
       "      <td>Not assigned\\n</td>\n",
       "    </tr>\n",
       "    <tr>\n",
       "      <th>2</th>\n",
       "      <td>M3A</td>\n",
       "      <td>North York</td>\n",
       "      <td>Parkwoods\\n</td>\n",
       "    </tr>\n",
       "    <tr>\n",
       "      <th>3</th>\n",
       "      <td>M4A</td>\n",
       "      <td>North York</td>\n",
       "      <td>Victoria Village\\n</td>\n",
       "    </tr>\n",
       "    <tr>\n",
       "      <th>4</th>\n",
       "      <td>M5A</td>\n",
       "      <td>Downtown Toronto</td>\n",
       "      <td>Harbourfront\\n</td>\n",
       "    </tr>\n",
       "  </tbody>\n",
       "</table>\n",
       "</div>"
      ],
      "text/plain": [
       "  Postcode           Borough     Neighbourhood\\n\n",
       "0      M1A      Not assigned      Not assigned\\n\n",
       "1      M2A      Not assigned      Not assigned\\n\n",
       "2      M3A        North York         Parkwoods\\n\n",
       "3      M4A        North York  Victoria Village\\n\n",
       "4      M5A  Downtown Toronto      Harbourfront\\n"
      ]
     },
     "execution_count": 9,
     "metadata": {},
     "output_type": "execute_result"
    }
   ],
   "source": [
    "df.head()"
   ]
  },
  {
   "cell_type": "code",
   "execution_count": 10,
   "metadata": {},
   "outputs": [
    {
     "data": {
      "text/html": [
       "<div>\n",
       "<style scoped>\n",
       "    .dataframe tbody tr th:only-of-type {\n",
       "        vertical-align: middle;\n",
       "    }\n",
       "\n",
       "    .dataframe tbody tr th {\n",
       "        vertical-align: top;\n",
       "    }\n",
       "\n",
       "    .dataframe thead th {\n",
       "        text-align: right;\n",
       "    }\n",
       "</style>\n",
       "<table border=\"1\" class=\"dataframe\">\n",
       "  <thead>\n",
       "    <tr style=\"text-align: right;\">\n",
       "      <th></th>\n",
       "      <th>Neighbourhood</th>\n",
       "      <th>Postcode</th>\n",
       "      <th>Borough</th>\n",
       "    </tr>\n",
       "  </thead>\n",
       "  <tbody>\n",
       "    <tr>\n",
       "      <th>0</th>\n",
       "      <td>Not assigned\\n</td>\n",
       "      <td>M1A</td>\n",
       "      <td>Not assigned</td>\n",
       "    </tr>\n",
       "    <tr>\n",
       "      <th>1</th>\n",
       "      <td>Not assigned\\n</td>\n",
       "      <td>M2A</td>\n",
       "      <td>Not assigned</td>\n",
       "    </tr>\n",
       "    <tr>\n",
       "      <th>2</th>\n",
       "      <td>Parkwoods\\n</td>\n",
       "      <td>M3A</td>\n",
       "      <td>North York</td>\n",
       "    </tr>\n",
       "    <tr>\n",
       "      <th>3</th>\n",
       "      <td>Victoria Village\\n</td>\n",
       "      <td>M4A</td>\n",
       "      <td>North York</td>\n",
       "    </tr>\n",
       "    <tr>\n",
       "      <th>4</th>\n",
       "      <td>Harbourfront\\n</td>\n",
       "      <td>M5A</td>\n",
       "      <td>Downtown Toronto</td>\n",
       "    </tr>\n",
       "  </tbody>\n",
       "</table>\n",
       "</div>"
      ],
      "text/plain": [
       "      Neighbourhood\\n Postcode           Borough\n",
       "0      Not assigned\\n      M1A      Not assigned\n",
       "1      Not assigned\\n      M2A      Not assigned\n",
       "2         Parkwoods\\n      M3A        North York\n",
       "3  Victoria Village\\n      M4A        North York\n",
       "4      Harbourfront\\n      M5A  Downtown Toronto"
      ]
     },
     "execution_count": 10,
     "metadata": {},
     "output_type": "execute_result"
    }
   ],
   "source": [
    "new_order = [-1,0,1]\n",
    "df = df[df.columns[new_order]]\n",
    "df.head()"
   ]
  },
  {
   "cell_type": "code",
   "execution_count": 11,
   "metadata": {},
   "outputs": [
    {
     "data": {
      "text/plain": [
       "(211, 3)"
      ]
     },
     "execution_count": 11,
     "metadata": {},
     "output_type": "execute_result"
    }
   ],
   "source": [
    "df = df[df.Borough != 'Not assigned']\n",
    "df.shape"
   ]
  },
  {
   "cell_type": "code",
   "execution_count": 12,
   "metadata": {},
   "outputs": [
    {
     "data": {
      "text/html": [
       "<div>\n",
       "<style scoped>\n",
       "    .dataframe tbody tr th:only-of-type {\n",
       "        vertical-align: middle;\n",
       "    }\n",
       "\n",
       "    .dataframe tbody tr th {\n",
       "        vertical-align: top;\n",
       "    }\n",
       "\n",
       "    .dataframe thead th {\n",
       "        text-align: right;\n",
       "    }\n",
       "</style>\n",
       "<table border=\"1\" class=\"dataframe\">\n",
       "  <thead>\n",
       "    <tr style=\"text-align: right;\">\n",
       "      <th></th>\n",
       "      <th>Neighbourhood</th>\n",
       "      <th>Postcode</th>\n",
       "      <th>Borough</th>\n",
       "    </tr>\n",
       "  </thead>\n",
       "  <tbody>\n",
       "    <tr>\n",
       "      <th>0</th>\n",
       "      <td>Parkwoods\\n</td>\n",
       "      <td>M3A</td>\n",
       "      <td>North York</td>\n",
       "    </tr>\n",
       "    <tr>\n",
       "      <th>1</th>\n",
       "      <td>Victoria Village\\n</td>\n",
       "      <td>M4A</td>\n",
       "      <td>North York</td>\n",
       "    </tr>\n",
       "    <tr>\n",
       "      <th>2</th>\n",
       "      <td>Harbourfront\\n</td>\n",
       "      <td>M5A</td>\n",
       "      <td>Downtown Toronto</td>\n",
       "    </tr>\n",
       "    <tr>\n",
       "      <th>3</th>\n",
       "      <td>Regent Park\\n</td>\n",
       "      <td>M5A</td>\n",
       "      <td>Downtown Toronto</td>\n",
       "    </tr>\n",
       "    <tr>\n",
       "      <th>4</th>\n",
       "      <td>Lawrence Heights\\n</td>\n",
       "      <td>M6A</td>\n",
       "      <td>North York</td>\n",
       "    </tr>\n",
       "    <tr>\n",
       "      <th>5</th>\n",
       "      <td>Lawrence Manor\\n</td>\n",
       "      <td>M6A</td>\n",
       "      <td>North York</td>\n",
       "    </tr>\n",
       "    <tr>\n",
       "      <th>6</th>\n",
       "      <td>Not assigned\\n</td>\n",
       "      <td>M7A</td>\n",
       "      <td>Queen's Park</td>\n",
       "    </tr>\n",
       "    <tr>\n",
       "      <th>7</th>\n",
       "      <td>Islington Avenue\\n</td>\n",
       "      <td>M9A</td>\n",
       "      <td>Etobicoke</td>\n",
       "    </tr>\n",
       "    <tr>\n",
       "      <th>8</th>\n",
       "      <td>Rouge\\n</td>\n",
       "      <td>M1B</td>\n",
       "      <td>Scarborough</td>\n",
       "    </tr>\n",
       "    <tr>\n",
       "      <th>9</th>\n",
       "      <td>Malvern\\n</td>\n",
       "      <td>M1B</td>\n",
       "      <td>Scarborough</td>\n",
       "    </tr>\n",
       "    <tr>\n",
       "      <th>10</th>\n",
       "      <td>Don Mills North\\n</td>\n",
       "      <td>M3B</td>\n",
       "      <td>North York</td>\n",
       "    </tr>\n",
       "    <tr>\n",
       "      <th>11</th>\n",
       "      <td>Woodbine Gardens\\n</td>\n",
       "      <td>M4B</td>\n",
       "      <td>East York</td>\n",
       "    </tr>\n",
       "  </tbody>\n",
       "</table>\n",
       "</div>"
      ],
      "text/plain": [
       "       Neighbourhood\\n Postcode           Borough\n",
       "0          Parkwoods\\n      M3A        North York\n",
       "1   Victoria Village\\n      M4A        North York\n",
       "2       Harbourfront\\n      M5A  Downtown Toronto\n",
       "3        Regent Park\\n      M5A  Downtown Toronto\n",
       "4   Lawrence Heights\\n      M6A        North York\n",
       "5     Lawrence Manor\\n      M6A        North York\n",
       "6       Not assigned\\n      M7A      Queen's Park\n",
       "7   Islington Avenue\\n      M9A         Etobicoke\n",
       "8              Rouge\\n      M1B       Scarborough\n",
       "9            Malvern\\n      M1B       Scarborough\n",
       "10   Don Mills North\\n      M3B        North York\n",
       "11  Woodbine Gardens\\n      M4B         East York"
      ]
     },
     "execution_count": 12,
     "metadata": {},
     "output_type": "execute_result"
    }
   ],
   "source": [
    "df = df.reset_index(drop=True)\n",
    "df.head(12)"
   ]
  },
  {
   "cell_type": "code",
   "execution_count": 13,
   "metadata": {},
   "outputs": [
    {
     "data": {
      "text/plain": [
       "array(['Neighbourhood\\n', 'Postcode', 'Borough'], dtype=object)"
      ]
     },
     "execution_count": 13,
     "metadata": {},
     "output_type": "execute_result"
    }
   ],
   "source": [
    "df.columns.values"
   ]
  },
  {
   "cell_type": "code",
   "execution_count": 17,
   "metadata": {},
   "outputs": [
    {
     "data": {
      "text/html": [
       "<div>\n",
       "<style scoped>\n",
       "    .dataframe tbody tr th:only-of-type {\n",
       "        vertical-align: middle;\n",
       "    }\n",
       "\n",
       "    .dataframe tbody tr th {\n",
       "        vertical-align: top;\n",
       "    }\n",
       "\n",
       "    .dataframe thead th {\n",
       "        text-align: right;\n",
       "    }\n",
       "</style>\n",
       "<table border=\"1\" class=\"dataframe\">\n",
       "  <thead>\n",
       "    <tr style=\"text-align: right;\">\n",
       "      <th></th>\n",
       "      <th>Neighbourhood</th>\n",
       "      <th>Postcode</th>\n",
       "      <th>Borough</th>\n",
       "    </tr>\n",
       "  </thead>\n",
       "  <tbody>\n",
       "    <tr>\n",
       "      <th>0</th>\n",
       "      <td>Parkwoods</td>\n",
       "      <td>M3A</td>\n",
       "      <td>North York</td>\n",
       "    </tr>\n",
       "    <tr>\n",
       "      <th>1</th>\n",
       "      <td>Victoria Village</td>\n",
       "      <td>M4A</td>\n",
       "      <td>North York</td>\n",
       "    </tr>\n",
       "    <tr>\n",
       "      <th>2</th>\n",
       "      <td>Harbourfront</td>\n",
       "      <td>M5A</td>\n",
       "      <td>Downtown Toronto</td>\n",
       "    </tr>\n",
       "    <tr>\n",
       "      <th>3</th>\n",
       "      <td>Regent Park</td>\n",
       "      <td>M5A</td>\n",
       "      <td>Downtown Toronto</td>\n",
       "    </tr>\n",
       "    <tr>\n",
       "      <th>4</th>\n",
       "      <td>Lawrence Heights</td>\n",
       "      <td>M6A</td>\n",
       "      <td>North York</td>\n",
       "    </tr>\n",
       "    <tr>\n",
       "      <th>5</th>\n",
       "      <td>Lawrence Manor</td>\n",
       "      <td>M6A</td>\n",
       "      <td>North York</td>\n",
       "    </tr>\n",
       "    <tr>\n",
       "      <th>6</th>\n",
       "      <td>Not assigned</td>\n",
       "      <td>M7A</td>\n",
       "      <td>Queen's Park</td>\n",
       "    </tr>\n",
       "    <tr>\n",
       "      <th>7</th>\n",
       "      <td>Islington Avenue</td>\n",
       "      <td>M9A</td>\n",
       "      <td>Etobicoke</td>\n",
       "    </tr>\n",
       "    <tr>\n",
       "      <th>8</th>\n",
       "      <td>Rouge</td>\n",
       "      <td>M1B</td>\n",
       "      <td>Scarborough</td>\n",
       "    </tr>\n",
       "    <tr>\n",
       "      <th>9</th>\n",
       "      <td>Malvern</td>\n",
       "      <td>M1B</td>\n",
       "      <td>Scarborough</td>\n",
       "    </tr>\n",
       "    <tr>\n",
       "      <th>10</th>\n",
       "      <td>Don Mills North</td>\n",
       "      <td>M3B</td>\n",
       "      <td>North York</td>\n",
       "    </tr>\n",
       "    <tr>\n",
       "      <th>11</th>\n",
       "      <td>Woodbine Gardens</td>\n",
       "      <td>M4B</td>\n",
       "      <td>East York</td>\n",
       "    </tr>\n",
       "  </tbody>\n",
       "</table>\n",
       "</div>"
      ],
      "text/plain": [
       "       Neighbourhood Postcode           Borough\n",
       "0          Parkwoods      M3A        North York\n",
       "1   Victoria Village      M4A        North York\n",
       "2       Harbourfront      M5A  Downtown Toronto\n",
       "3        Regent Park      M5A  Downtown Toronto\n",
       "4   Lawrence Heights      M6A        North York\n",
       "5     Lawrence Manor      M6A        North York\n",
       "6       Not assigned      M7A      Queen's Park\n",
       "7   Islington Avenue      M9A         Etobicoke\n",
       "8              Rouge      M1B       Scarborough\n",
       "9            Malvern      M1B       Scarborough\n",
       "10   Don Mills North      M3B        North York\n",
       "11  Woodbine Gardens      M4B         East York"
      ]
     },
     "execution_count": 17,
     "metadata": {},
     "output_type": "execute_result"
    }
   ],
   "source": [
    "df.rename(columns={'Neighbourhood\\n': 'Neighbourhood'}, inplace=True)\n",
    "df['Neighbourhood'] = df['Neighbourhood'].map(lambda x: x.rstrip('\\n'))\n",
    "df.head(12)"
   ]
  },
  {
   "cell_type": "code",
   "execution_count": 18,
   "metadata": {},
   "outputs": [],
   "source": [
    "for index, row in df.iterrows():\n",
    "     if row['Neighbourhood'] == \"Not assigned\":\n",
    "        row['Neighbourhood'] = row['Borough']"
   ]
  },
  {
   "cell_type": "code",
   "execution_count": 25,
   "metadata": {},
   "outputs": [
    {
     "data": {
      "text/plain": [
       "(103, 3)"
      ]
     },
     "execution_count": 25,
     "metadata": {},
     "output_type": "execute_result"
    }
   ],
   "source": [
    "df = df.groupby(['Postcode','Borough'])['Neighbourhood'].apply(', '.join).reset_index()\n",
    "df.shape"
   ]
  },
  {
   "cell_type": "code",
   "execution_count": 28,
   "metadata": {},
   "outputs": [
    {
     "data": {
      "text/html": [
       "<div>\n",
       "<style scoped>\n",
       "    .dataframe tbody tr th:only-of-type {\n",
       "        vertical-align: middle;\n",
       "    }\n",
       "\n",
       "    .dataframe tbody tr th {\n",
       "        vertical-align: top;\n",
       "    }\n",
       "\n",
       "    .dataframe thead th {\n",
       "        text-align: right;\n",
       "    }\n",
       "</style>\n",
       "<table border=\"1\" class=\"dataframe\">\n",
       "  <thead>\n",
       "    <tr style=\"text-align: right;\">\n",
       "      <th></th>\n",
       "      <th>Postal Code</th>\n",
       "      <th>Latitude</th>\n",
       "      <th>Longitude</th>\n",
       "    </tr>\n",
       "  </thead>\n",
       "  <tbody>\n",
       "    <tr>\n",
       "      <th>0</th>\n",
       "      <td>M1B</td>\n",
       "      <td>43.806686</td>\n",
       "      <td>-79.194353</td>\n",
       "    </tr>\n",
       "    <tr>\n",
       "      <th>1</th>\n",
       "      <td>M1C</td>\n",
       "      <td>43.784535</td>\n",
       "      <td>-79.160497</td>\n",
       "    </tr>\n",
       "    <tr>\n",
       "      <th>2</th>\n",
       "      <td>M1E</td>\n",
       "      <td>43.763573</td>\n",
       "      <td>-79.188711</td>\n",
       "    </tr>\n",
       "    <tr>\n",
       "      <th>3</th>\n",
       "      <td>M1G</td>\n",
       "      <td>43.770992</td>\n",
       "      <td>-79.216917</td>\n",
       "    </tr>\n",
       "    <tr>\n",
       "      <th>4</th>\n",
       "      <td>M1H</td>\n",
       "      <td>43.773136</td>\n",
       "      <td>-79.239476</td>\n",
       "    </tr>\n",
       "  </tbody>\n",
       "</table>\n",
       "</div>"
      ],
      "text/plain": [
       "  Postal Code   Latitude  Longitude\n",
       "0         M1B  43.806686 -79.194353\n",
       "1         M1C  43.784535 -79.160497\n",
       "2         M1E  43.763573 -79.188711\n",
       "3         M1G  43.770992 -79.216917\n",
       "4         M1H  43.773136 -79.239476"
      ]
     },
     "execution_count": 28,
     "metadata": {},
     "output_type": "execute_result"
    }
   ],
   "source": [
    "df_geocode=pd.read_csv('Geospatial_Coordinates.csv')\n",
    "df_geocode.head()"
   ]
  },
  {
   "cell_type": "code",
   "execution_count": 29,
   "metadata": {},
   "outputs": [
    {
     "data": {
      "text/html": [
       "<div>\n",
       "<style scoped>\n",
       "    .dataframe tbody tr th:only-of-type {\n",
       "        vertical-align: middle;\n",
       "    }\n",
       "\n",
       "    .dataframe tbody tr th {\n",
       "        vertical-align: top;\n",
       "    }\n",
       "\n",
       "    .dataframe thead th {\n",
       "        text-align: right;\n",
       "    }\n",
       "</style>\n",
       "<table border=\"1\" class=\"dataframe\">\n",
       "  <thead>\n",
       "    <tr style=\"text-align: right;\">\n",
       "      <th></th>\n",
       "      <th>Postcode</th>\n",
       "      <th>Borough</th>\n",
       "      <th>Neighbourhood</th>\n",
       "      <th>Postal Code</th>\n",
       "      <th>Latitude</th>\n",
       "      <th>Longitude</th>\n",
       "    </tr>\n",
       "  </thead>\n",
       "  <tbody>\n",
       "    <tr>\n",
       "      <th>0</th>\n",
       "      <td>M1B</td>\n",
       "      <td>Scarborough</td>\n",
       "      <td>Rouge, Malvern</td>\n",
       "      <td>M1B</td>\n",
       "      <td>43.806686</td>\n",
       "      <td>-79.194353</td>\n",
       "    </tr>\n",
       "    <tr>\n",
       "      <th>1</th>\n",
       "      <td>M1C</td>\n",
       "      <td>Scarborough</td>\n",
       "      <td>Highland Creek, Rouge Hill, Port Union</td>\n",
       "      <td>M1C</td>\n",
       "      <td>43.784535</td>\n",
       "      <td>-79.160497</td>\n",
       "    </tr>\n",
       "    <tr>\n",
       "      <th>2</th>\n",
       "      <td>M1E</td>\n",
       "      <td>Scarborough</td>\n",
       "      <td>Guildwood, Morningside, West Hill</td>\n",
       "      <td>M1E</td>\n",
       "      <td>43.763573</td>\n",
       "      <td>-79.188711</td>\n",
       "    </tr>\n",
       "    <tr>\n",
       "      <th>3</th>\n",
       "      <td>M1G</td>\n",
       "      <td>Scarborough</td>\n",
       "      <td>Woburn</td>\n",
       "      <td>M1G</td>\n",
       "      <td>43.770992</td>\n",
       "      <td>-79.216917</td>\n",
       "    </tr>\n",
       "    <tr>\n",
       "      <th>4</th>\n",
       "      <td>M1H</td>\n",
       "      <td>Scarborough</td>\n",
       "      <td>Cedarbrae</td>\n",
       "      <td>M1H</td>\n",
       "      <td>43.773136</td>\n",
       "      <td>-79.239476</td>\n",
       "    </tr>\n",
       "  </tbody>\n",
       "</table>\n",
       "</div>"
      ],
      "text/plain": [
       "  Postcode      Borough                           Neighbourhood Postal Code  \\\n",
       "0      M1B  Scarborough                          Rouge, Malvern         M1B   \n",
       "1      M1C  Scarborough  Highland Creek, Rouge Hill, Port Union         M1C   \n",
       "2      M1E  Scarborough       Guildwood, Morningside, West Hill         M1E   \n",
       "3      M1G  Scarborough                                  Woburn         M1G   \n",
       "4      M1H  Scarborough                               Cedarbrae         M1H   \n",
       "\n",
       "    Latitude  Longitude  \n",
       "0  43.806686 -79.194353  \n",
       "1  43.784535 -79.160497  \n",
       "2  43.763573 -79.188711  \n",
       "3  43.770992 -79.216917  \n",
       "4  43.773136 -79.239476  "
      ]
     },
     "execution_count": 29,
     "metadata": {},
     "output_type": "execute_result"
    }
   ],
   "source": [
    "df = pd.merge(df, df_geocode, how='inner', left_on = 'Postcode', right_on = 'Postal Code')\n",
    "df.head()"
   ]
  },
  {
   "cell_type": "code",
   "execution_count": 31,
   "metadata": {},
   "outputs": [
    {
     "data": {
      "text/html": [
       "<div>\n",
       "<style scoped>\n",
       "    .dataframe tbody tr th:only-of-type {\n",
       "        vertical-align: middle;\n",
       "    }\n",
       "\n",
       "    .dataframe tbody tr th {\n",
       "        vertical-align: top;\n",
       "    }\n",
       "\n",
       "    .dataframe thead th {\n",
       "        text-align: right;\n",
       "    }\n",
       "</style>\n",
       "<table border=\"1\" class=\"dataframe\">\n",
       "  <thead>\n",
       "    <tr style=\"text-align: right;\">\n",
       "      <th></th>\n",
       "      <th>Postcode</th>\n",
       "      <th>Borough</th>\n",
       "      <th>Neighbourhood</th>\n",
       "      <th>Latitude</th>\n",
       "      <th>Longitude</th>\n",
       "    </tr>\n",
       "  </thead>\n",
       "  <tbody>\n",
       "    <tr>\n",
       "      <th>0</th>\n",
       "      <td>M1B</td>\n",
       "      <td>Scarborough</td>\n",
       "      <td>Rouge, Malvern</td>\n",
       "      <td>43.806686</td>\n",
       "      <td>-79.194353</td>\n",
       "    </tr>\n",
       "    <tr>\n",
       "      <th>1</th>\n",
       "      <td>M1C</td>\n",
       "      <td>Scarborough</td>\n",
       "      <td>Highland Creek, Rouge Hill, Port Union</td>\n",
       "      <td>43.784535</td>\n",
       "      <td>-79.160497</td>\n",
       "    </tr>\n",
       "    <tr>\n",
       "      <th>2</th>\n",
       "      <td>M1E</td>\n",
       "      <td>Scarborough</td>\n",
       "      <td>Guildwood, Morningside, West Hill</td>\n",
       "      <td>43.763573</td>\n",
       "      <td>-79.188711</td>\n",
       "    </tr>\n",
       "    <tr>\n",
       "      <th>3</th>\n",
       "      <td>M1G</td>\n",
       "      <td>Scarborough</td>\n",
       "      <td>Woburn</td>\n",
       "      <td>43.770992</td>\n",
       "      <td>-79.216917</td>\n",
       "    </tr>\n",
       "    <tr>\n",
       "      <th>4</th>\n",
       "      <td>M1H</td>\n",
       "      <td>Scarborough</td>\n",
       "      <td>Cedarbrae</td>\n",
       "      <td>43.773136</td>\n",
       "      <td>-79.239476</td>\n",
       "    </tr>\n",
       "  </tbody>\n",
       "</table>\n",
       "</div>"
      ],
      "text/plain": [
       "  Postcode      Borough                           Neighbourhood   Latitude  \\\n",
       "0      M1B  Scarborough                          Rouge, Malvern  43.806686   \n",
       "1      M1C  Scarborough  Highland Creek, Rouge Hill, Port Union  43.784535   \n",
       "2      M1E  Scarborough       Guildwood, Morningside, West Hill  43.763573   \n",
       "3      M1G  Scarborough                                  Woburn  43.770992   \n",
       "4      M1H  Scarborough                               Cedarbrae  43.773136   \n",
       "\n",
       "   Longitude  \n",
       "0 -79.194353  \n",
       "1 -79.160497  \n",
       "2 -79.188711  \n",
       "3 -79.216917  \n",
       "4 -79.239476  "
      ]
     },
     "execution_count": 31,
     "metadata": {},
     "output_type": "execute_result"
    }
   ],
   "source": [
    "df = df[['Postcode', 'Borough', 'Neighbourhood','Latitude', 'Longitude']]\n",
    "\n",
    "df.head()"
   ]
  },
  {
   "cell_type": "code",
   "execution_count": 32,
   "metadata": {},
   "outputs": [
    {
     "data": {
      "text/plain": [
       "(103, 5)"
      ]
     },
     "execution_count": 32,
     "metadata": {},
     "output_type": "execute_result"
    }
   ],
   "source": [
    "df.shape"
   ]
  },
  {
   "cell_type": "code",
   "execution_count": 33,
   "metadata": {},
   "outputs": [
    {
     "name": "stdout",
     "output_type": "stream",
     "text": [
      "The geograpical coordinates of Toronto are 43.653963, -79.387207.\n"
     ]
    }
   ],
   "source": [
    "address = 'Toronto, Canada'\n",
    "\n",
    "geolocator = Nominatim(user_agent=\"ny_explorer\")\n",
    "location = geolocator.geocode(address)\n",
    "latitude = location.latitude\n",
    "longitude = location.longitude\n",
    "print('The geograpical coordinates of Toronto are {}, {}.'.format(latitude, longitude))"
   ]
  },
  {
   "cell_type": "code",
   "execution_count": 34,
   "metadata": {},
   "outputs": [
    {
     "data": {
      "text/html": [
       "<div style=\"width:100%;\"><div style=\"position:relative;width:100%;height:0;padding-bottom:60%;\"><iframe src=\"data:text/html;charset=utf-8;base64,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\" style=\"position:absolute;width:100%;height:100%;left:0;top:0;border:none !important;\" allowfullscreen webkitallowfullscreen mozallowfullscreen></iframe></div></div>"
      ],
      "text/plain": [
       "<folium.folium.Map at 0x1651c15b5c0>"
      ]
     },
     "execution_count": 34,
     "metadata": {},
     "output_type": "execute_result"
    }
   ],
   "source": [
    "# create map of Manhattan using latitude and longitude values\n",
    "map_toronto = folium.Map(location=[latitude, longitude], zoom_start=12)\n",
    "\n",
    "# add markers to map\n",
    "for lat, lng, label in zip(df['Latitude'], df['Longitude'], df['Postcode']):\n",
    "    label = folium.Popup(label, parse_html=True)\n",
    "    folium.CircleMarker(\n",
    "        [lat, lng],\n",
    "        radius=5,\n",
    "        popup=label,\n",
    "        color='blue',\n",
    "        fill=True,\n",
    "        fill_color='#3186cc',\n",
    "        fill_opacity=0.7,\n",
    "        parse_html=False).add_to(map_toronto)  \n",
    "    \n",
    "map_toronto"
   ]
  },
  {
   "cell_type": "code",
   "execution_count": 35,
   "metadata": {},
   "outputs": [
    {
     "data": {
      "text/plain": [
       "array([2, 2, 2, 2, 2, 2, 2, 2, 2, 2])"
      ]
     },
     "execution_count": 35,
     "metadata": {},
     "output_type": "execute_result"
    }
   ],
   "source": [
    "# set number of clusters\n",
    "kclusters = 4\n",
    "\n",
    "toronto_clustering = df[['Latitude', 'Longitude']]\n",
    "# run k-means clustering\n",
    "kmeans = KMeans(n_clusters=kclusters, random_state=0).fit(toronto_clustering)\n",
    "\n",
    "# check cluster labels generated for each row in the dataframe\n",
    "kmeans.labels_[0:10]"
   ]
  }
 ],
 "metadata": {
  "kernelspec": {
   "display_name": "Python 3",
   "language": "python",
   "name": "python3"
  },
  "language_info": {
   "codemirror_mode": {
    "name": "ipython",
    "version": 3
   },
   "file_extension": ".py",
   "mimetype": "text/x-python",
   "name": "python",
   "nbconvert_exporter": "python",
   "pygments_lexer": "ipython3",
   "version": "3.7.3"
  }
 },
 "nbformat": 4,
 "nbformat_minor": 2
}
