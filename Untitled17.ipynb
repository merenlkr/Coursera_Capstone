{
 "cells": [
  {
   "cell_type": "markdown",
   "metadata": {},
   "source": [
    "Coffee Services Canada Market Analysis"
   ]
  },
  {
   "cell_type": "markdown",
   "metadata": {},
   "source": [
    "Introduction/Business Problem\n"
   ]
  },
  {
   "cell_type": "markdown",
   "metadata": {},
   "source": [
    "Story: Coffee Services is a company that sells products and services related to coffee. The most sold product/service to the consumer is “Coffee Education”. It’s a program that started in Italy and shows the customer which coffee taste better for them, their benefits, how is it done as well as selling the product directly to them. I.C.S are trying to get into the Canadian market. They are already selling in Vancouver. I.C.S. are expecting to find new cities that have similar behavior (constant growth trend in population and their income) such as, Toronto. I.C.S hired Consultant MeMyselfAndI to validate that Toronto is constantly growing in population, in their household income; and to see where the first store should be placed. Since their customers regularly go to a coffee shop, I.C.S. aims to open a store near (but not precisely in the same place) coffee shops. The main reason they don't like to be on top of other coffee shops is because sometimes they are their customers in products.\n",
    "\n",
    "Problem: If Toronto does qualify to open a new store, where should the store be placed? They are confused since there are too many coffee shops around the city. Where is near to a high populated zone of coffee shops?\n",
    "\n"
   ]
  },
  {
   "cell_type": "markdown",
   "metadata": {},
   "source": [
    "Data that Consultant MeMyselfAndI will need for this analysis\n",
    "We will need:\n",
    "\n",
    "1.Toronto demographic information\n",
    "2. Income per household per year, population growth for their market per year. Demonstrating that both of this analysis has the    trend of going up it will show that Toronto is the right city to open a store (Since the customer is following this            pattern).\n",
    "   Toronto Zip Codes:\n",
    "3. Zip Code, Borough, Neighborhood, latitude, longitude\n",
    "4. We will need this to see where the store should be located inside the city.\n",
    "5. The Zip code needs to have the latitude and longitude to geolocate this point in a map.\n",
    "6. We need the neighborhood and the borough to group the information, so our analysis has value to the customer. This will give    us two grouping levels to make our analysis.\n",
    "7. Data of venues for each zip code.\n",
    "8. Longitude, latitude, type of venue, name of the venue, a brief description of it.\n",
    "9. We will need this to see if coffee shops are nearby.\n",
    "10. We need the latitude, longitude and the name of the venue to geolocate the coffee shops in Toronto.\n",
    "11. We need the type of venue to group the different venues and see all that are ‘Coffee shops’\n"
   ]
  },
  {
   "cell_type": "markdown",
   "metadata": {},
   "source": [
    "We can join then the Zip code information with the venues information across the latitude and the longitude, this will give us the oportunity to see the exact location of different coffee shops and group them according to their neighborhood inside different boroughs. During the process we will observe were there is a major zone of coffee shops in Toronto."
   ]
  },
  {
   "cell_type": "code",
   "execution_count": null,
   "metadata": {},
   "outputs": [],
   "source": []
  }
 ],
 "metadata": {
  "kernelspec": {
   "display_name": "Python 3",
   "language": "python",
   "name": "python3"
  },
  "language_info": {
   "codemirror_mode": {
    "name": "ipython",
    "version": 3
   },
   "file_extension": ".py",
   "mimetype": "text/x-python",
   "name": "python",
   "nbconvert_exporter": "python",
   "pygments_lexer": "ipython3",
   "version": "3.7.3"
  }
 },
 "nbformat": 4,
 "nbformat_minor": 2
}
